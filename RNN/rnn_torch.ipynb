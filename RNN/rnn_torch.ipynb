{
 "cells": [
  {
   "cell_type": "code",
   "execution_count": 20,
   "metadata": {},
   "outputs": [],
   "source": [
    "import torch\n",
    "import torch.nn as nn\n",
    "from torch.nn import functional as F\n",
    "\n",
    "import sys\n",
    "sys.path.append('..')\n",
    "from d2l_helpers import *"
   ]
  },
  {
   "cell_type": "code",
   "execution_count": 21,
   "metadata": {},
   "outputs": [],
   "source": [
    "batch_size, num_steps = 32, 35\n",
    "train_iter, vocab = load_data_time_machine(batch_size, num_steps)"
   ]
  },
  {
   "cell_type": "code",
   "execution_count": 22,
   "metadata": {},
   "outputs": [],
   "source": [
    "num_hiddens = 512\n",
    "rnn_layer = nn.RNN(len(vocab), num_hiddens)"
   ]
  },
  {
   "cell_type": "code",
   "execution_count": 23,
   "metadata": {},
   "outputs": [
    {
     "data": {
      "text/plain": [
       "torch.Size([1, 32, 512])"
      ]
     },
     "execution_count": 23,
     "metadata": {},
     "output_type": "execute_result"
    }
   ],
   "source": [
    "state = torch.zeros((1, batch_size, num_hiddens))\n",
    "state.shape"
   ]
  },
  {
   "cell_type": "code",
   "execution_count": 24,
   "metadata": {},
   "outputs": [
    {
     "data": {
      "text/plain": [
       "(torch.Size([35, 32, 512]), torch.Size([1, 32, 512]))"
      ]
     },
     "execution_count": 24,
     "metadata": {},
     "output_type": "execute_result"
    }
   ],
   "source": [
    "X = torch.rand(size=(num_steps, batch_size, len(vocab)))\n",
    "Y, state_new = rnn_layer(X, state)\n",
    "Y.shape, state_new.shape"
   ]
  },
  {
   "cell_type": "code",
   "execution_count": 25,
   "metadata": {},
   "outputs": [
    {
     "data": {
      "text/plain": [
       "'time travelleroooooooooo'"
      ]
     },
     "execution_count": 25,
     "metadata": {},
     "output_type": "execute_result"
    }
   ],
   "source": [
    "device = get_device()\n",
    "net = RNNModel(rnn_layer, vocab_size=len(vocab))\n",
    "net = net.to(device)\n",
    "predict_rnn('time traveller', 10, net, vocab, device)"
   ]
  },
  {
   "cell_type": "code",
   "execution_count": 26,
   "metadata": {},
   "outputs": [
    {
     "name": "stdout",
     "output_type": "stream",
     "text": [
      "time travellere the the the the the the the the the the the the \n",
      "epoch 10, perplexity 11.3\n",
      "time traveller and and and and and and and and and and and and a\n",
      "epoch 20, perplexity 9.3\n",
      "time travellerat an and an anded the allere the the the the the \n",
      "epoch 30, perplexity 8.4\n",
      "time traveller the this the thing the this the this the this the\n",
      "epoch 40, perplexity 7.8\n",
      "time travellere the ghis this this this this this this this this\n",
      "epoch 50, perplexity 7.7\n",
      "time traveller and and he the he the the the the mere alle the t\n",
      "epoch 60, perplexity 7.3\n",
      "time travelleris the the there way have andinglane the there wha\n",
      "epoch 70, perplexity 7.0\n",
      "time traveller and and ar abee the ing at me the ond and and and\n",
      "epoch 80, perplexity 6.6\n",
      "time traveller soun the thas lxur aby that in whis shill whald i\n",
      "epoch 90, perplexity 6.3\n",
      "time traveller and hereat abe ano the onathe tiok houn an the th\n",
      "epoch 100, perplexity 5.2\n",
      "time traveller but now hou his graplexpthis ghat spaco here tree\n",
      "epoch 110, perplexity 4.2\n",
      "time traveller taree the thace samd thee thing si h ally ther th\n",
      "epoch 120, perplexity 3.1\n",
      "time traveller tame thi klat ex tan in fal there was ous ing in \n",
      "epoch 130, perplexity 2.4\n",
      "time traveller s of ex thate s thea this sain there wis realliga\n",
      "epoch 140, perplexity 2.0\n",
      "time travelleris fou dimensions andithes sthe there ats thalis t\n",
      "epoch 150, perplexity 1.7\n",
      "time travellerit w against reason s if the thing wes oog had of \n",
      "epoch 160, perplexity 1.6\n",
      "time travellerit s against reason said the medical man there ate\n",
      "epoch 170, perplexity 1.4\n",
      "time traveller held in his hand was i glint ais oficinds nos ift\n",
      "epoch 180, perplexity 1.4\n",
      "time travellerit s alainsthr andthe thide soficubustion al the t\n",
      "epoch 190, perplexity 1.3\n",
      "time traveller thace the wascer aill sot antlyngon this towtllyo\n",
      "epoch 200, perplexity 1.3\n",
      "time traveller but now you begin to seethe object of my investir\n",
      "epoch 210, perplexity 1.3\n",
      "time traveller ffre itha wo ghis freps io nome abke tonded meat \n",
      "epoch 220, perplexity 1.2\n",
      "time travellerit s against reason said filby bat of hain who s o\n",
      "epoch 230, perplexity 1.2\n",
      "time traveller for so it will be convenient to speak of himwas e\n",
      "epoch 240, perplexity 1.2\n",
      "time traveller hit soas oflest fure wathis trey iof in foublas a\n",
      "epoch 250, perplexity 1.1\n",
      "time traveller froceeded anyreal body must have extension in fou\n",
      "epoch 260, perplexity 1.1\n",
      "time travelleryou can show black is white by argument said filby\n",
      "epoch 270, perplexity 1.1\n",
      "time travellerit would be remarkably convenient for the historia\n",
      "epoch 280, perplexity 1.1\n",
      "time traveller smilesarour in tie tire s if the wersuew the her \n",
      "epoch 290, perplexity 1.1\n",
      "time traveller f wo lh gereal wook the repllwirs icte aiccour i \n",
      "epoch 300, perplexity 1.0\n",
      "time traveller wothea small and hared thatine so s whenrad for i\n",
      "epoch 310, perplexity 1.1\n",
      "time traveller for so it will be convenient to speak of himwas e\n",
      "epoch 320, perplexity 1.1\n",
      "time traveller with a slight accession ofcheerfulness really thi\n",
      "epoch 330, perplexity 1.1\n",
      "time traveller with a slight accession ofcheerfulness really thi\n",
      "epoch 340, perplexity 1.0\n",
      "time travelleryou can show black is white by argument said filby\n",
      "epoch 350, perplexity 1.1\n",
      "time traveller for so it will be convenient to speak of himwas e\n",
      "epoch 360, perplexity 1.1\n",
      "time traveller for so it will be convenient to speak of himwas e\n",
      "epoch 370, perplexity 1.0\n",
      "time traveller with a slight accession ofcheerfulness really thi\n",
      "epoch 380, perplexity 1.1\n",
      "time travelleryou can show black is white by argument said filby\n",
      "epoch 390, perplexity 1.0\n",
      "time traveller with a slight acceas ons alo atill teithef sable \n",
      "epoch 400, perplexity 1.2\n",
      "time traveller wit sarseouldytry ment purdinsef cimentions long \n",
      "epoch 410, perplexity 1.2\n",
      "time travelleryou can show black is weite bacand doz than shere \n",
      "epoch 420, perplexity 1.2\n",
      "time traveller held in his hand was a glitteringmetallic framewo\n",
      "epoch 430, perplexity 1.1\n",
      "time travelleryou can show blacl is whime by theto dimensions bu\n",
      "epoch 440, perplexity 1.2\n",
      "time traveller hald the man ha doryou t on meit bat of the battl\n",
      "epoch 450, perplexity 1.2\n",
      "time traveller proceeded anyreal body must have extenyion it sot\n",
      "epoch 460, perplexity 1.2\n",
      "time travelleryou can show black is white by argument said filby\n",
      "epoch 470, perplexity 1.2\n",
      "time travellerit s against reason said fis iceiledsay cofursedp \n",
      "epoch 480, perplexity 1.2\n",
      "time travellerio s a diluthrel ane have bego to akmove carelly i\n",
      "epoch 490, perplexity 1.1\n",
      "time travellerit would be remarkably convenient for the historia\n",
      "epoch 500, perplexity 1.1\n",
      "ppl: 1.1, 85684.1 token/s: mps\n",
      "time travellerit would be remarkably convenient for the historia\n",
      "travelleryou can show black is white by argument baid filby\n"
     ]
    }
   ],
   "source": [
    "num_epochs, lr = 500, 1\n",
    "train_rnn(net, train_iter, vocab, lr, num_epochs, device)"
   ]
  }
 ],
 "metadata": {
  "kernelspec": {
   "display_name": "base",
   "language": "python",
   "name": "python3"
  },
  "language_info": {
   "codemirror_mode": {
    "name": "ipython",
    "version": 3
   },
   "file_extension": ".py",
   "mimetype": "text/x-python",
   "name": "python",
   "nbconvert_exporter": "python",
   "pygments_lexer": "ipython3",
   "version": "3.12.2"
  }
 },
 "nbformat": 4,
 "nbformat_minor": 2
}
