{
 "cells": [
  {
   "cell_type": "code",
   "execution_count": 120,
   "metadata": {},
   "outputs": [],
   "source": [
    "import numpy as np\n",
    "import torch\n",
    "from torch.utils import data\n",
    "\n",
    "true_w = torch.tensor([2, -3.4])\n",
    "true_b = 4.2"
   ]
  },
  {
   "cell_type": "code",
   "execution_count": 121,
   "metadata": {},
   "outputs": [],
   "source": [
    "# first create dataset manually\n",
    "def create_dataset(W: torch.Tensor, b: torch.Tensor, num_sample: int) -> torch.Tensor:\n",
    "    # W: (2), b: int, num_sample: int\n",
    "    data = torch.normal(0, 1, (num_sample, W.shape[0])) # (num_sample, 2)\n",
    "    labels = data @ W + b # (num_sample, 2) * (2) = (num_sample)\n",
    "    labels += torch.normal(0, 0.01, labels.shape)\n",
    "    print(data.shape, labels.shape)\n",
    "    return data, labels.reshape(-1, 1) # important to reshape labels to (num_sample, 1)"
   ]
  },
  {
   "cell_type": "code",
   "execution_count": 122,
   "metadata": {},
   "outputs": [
    {
     "name": "stdout",
     "output_type": "stream",
     "text": [
      "torch.Size([1000, 2]) torch.Size([1000])\n"
     ]
    }
   ],
   "source": [
    "features, labels = create_dataset(true_w, true_b, 1000)"
   ]
  },
  {
   "cell_type": "code",
   "execution_count": 123,
   "metadata": {},
   "outputs": [
    {
     "data": {
      "text/plain": [
       "[tensor([[-0.1184, -0.0703],\n",
       "         [ 3.1284,  0.9363],\n",
       "         [-0.4152, -0.8787],\n",
       "         [ 1.6363, -1.3469],\n",
       "         [-0.6095,  0.9064],\n",
       "         [-0.9099,  0.9007],\n",
       "         [ 1.0098, -0.4392],\n",
       "         [ 1.8620,  0.4801],\n",
       "         [ 0.7616, -0.0541],\n",
       "         [ 0.4931,  1.0736]]),\n",
       " tensor([[ 4.1957],\n",
       "         [ 7.2681],\n",
       "         [ 6.3605],\n",
       "         [12.0565],\n",
       "         [-0.1015],\n",
       "         [-0.6797],\n",
       "         [ 7.7148],\n",
       "         [ 6.2954],\n",
       "         [ 5.8920],\n",
       "         [ 1.5287]])]"
      ]
     },
     "execution_count": 123,
     "metadata": {},
     "output_type": "execute_result"
    }
   ],
   "source": [
    "def load_array(data_arrays, batch_size, is_train=True):\n",
    "    dataset = data.TensorDataset(*data_arrays)\n",
    "    return data.DataLoader(dataset, batch_size, shuffle=is_train)\n",
    "\n",
    "batch_size = 10\n",
    "data_iter = load_array((features, labels), batch_size)\n",
    "\n",
    "next(iter(data_iter))"
   ]
  },
  {
   "cell_type": "code",
   "execution_count": 124,
   "metadata": {},
   "outputs": [],
   "source": [
    "from torch import nn\n",
    "\n",
    "net = nn.Sequential(nn.Linear(2, 1))"
   ]
  },
  {
   "cell_type": "code",
   "execution_count": 125,
   "metadata": {},
   "outputs": [
    {
     "data": {
      "text/plain": [
       "tensor([0.])"
      ]
     },
     "execution_count": 125,
     "metadata": {},
     "output_type": "execute_result"
    }
   ],
   "source": [
    "net[0].weight.data.normal_(0, 0.01)\n",
    "net[0].bias.data.fill_(0)"
   ]
  },
  {
   "cell_type": "code",
   "execution_count": 126,
   "metadata": {},
   "outputs": [],
   "source": [
    "loss = nn.MSELoss()"
   ]
  },
  {
   "cell_type": "code",
   "execution_count": 127,
   "metadata": {},
   "outputs": [],
   "source": [
    "trainer = torch.optim.SGD(net.parameters(), lr=0.03)"
   ]
  },
  {
   "cell_type": "code",
   "execution_count": 128,
   "metadata": {},
   "outputs": [
    {
     "name": "stdout",
     "output_type": "stream",
     "text": [
      "epoch 1, loss 0.000205\n",
      "epoch 2, loss 0.000103\n",
      "epoch 3, loss 0.000102\n",
      "epoch 4, loss 0.000103\n",
      "epoch 5, loss 0.000101\n",
      "epoch 6, loss 0.000101\n",
      "epoch 7, loss 0.000102\n",
      "epoch 8, loss 0.000103\n",
      "epoch 9, loss 0.000102\n",
      "epoch 10, loss 0.000102\n"
     ]
    }
   ],
   "source": [
    "num_epochs = 10\n",
    "for epoch in range(num_epochs):\n",
    "    for X, y in data_iter:\n",
    "        l = loss(net(X), y)\n",
    "        trainer.zero_grad()\n",
    "        l.backward()\n",
    "        trainer.step()\n",
    "    l = loss(net(features), labels)\n",
    "    print(f'epoch {epoch + 1}, loss {l:f}')"
   ]
  }
 ],
 "metadata": {
  "kernelspec": {
   "display_name": "base",
   "language": "python",
   "name": "python3"
  },
  "language_info": {
   "codemirror_mode": {
    "name": "ipython",
    "version": 3
   },
   "file_extension": ".py",
   "mimetype": "text/x-python",
   "name": "python",
   "nbconvert_exporter": "python",
   "pygments_lexer": "ipython3",
   "version": "3.12.2"
  }
 },
 "nbformat": 4,
 "nbformat_minor": 2
}
