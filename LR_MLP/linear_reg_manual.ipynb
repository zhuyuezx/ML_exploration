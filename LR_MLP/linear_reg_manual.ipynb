{
 "cells": [
  {
   "cell_type": "code",
   "execution_count": 1,
   "metadata": {},
   "outputs": [],
   "source": [
    "import torch\n",
    "import torch.nn as nn\n",
    "\n",
    "import matplotlib.pyplot as plt"
   ]
  },
  {
   "cell_type": "code",
   "execution_count": 2,
   "metadata": {},
   "outputs": [],
   "source": [
    "# first create dataset manually\n",
    "def create_dataset(W: torch.Tensor, b: torch.Tensor, num_sample: int) -> torch.Tensor:\n",
    "    # W: (10, 1), b: (1), num_sample: int\n",
    "    data = torch.normal(0, 1, (num_sample, W.shape[0])) # (num_sample, 10)\n",
    "    labels = data @ W + b # (num_sample, 10) * (10, 1) + (1) = (num_sample, 1)\n",
    "    labels += torch.normal(0, 0.01, labels.shape)\n",
    "    return data, labels.reshape(-1, 1)"
   ]
  },
  {
   "cell_type": "code",
   "execution_count": 3,
   "metadata": {},
   "outputs": [],
   "source": [
    "# set seed to 42\n",
    "torch.manual_seed(42)\n",
    "# create dataset\n",
    "true_W = torch.randn(10, 1) * 10\n",
    "true_b = torch.randn(1)\n",
    "data, labels = create_dataset(true_W, true_b, 1000)"
   ]
  },
  {
   "cell_type": "code",
   "execution_count": 4,
   "metadata": {},
   "outputs": [],
   "source": [
    "# define data loader\n",
    "class Dataset:\n",
    "    def __init__(self, data: torch.Tensor, labels: torch.Tensor, batch_size: int):\n",
    "        self.data = data\n",
    "        self.labels = labels\n",
    "        self.batch_size = batch_size\n",
    "    \n",
    "    def __iter__(self):\n",
    "        return self\n",
    "    \n",
    "    def __next__(self):\n",
    "        # return random subset of data with size of batch_size\n",
    "        idx = torch.randperm(len(self.data))[:self.batch_size]\n",
    "        return self.data[idx], self.labels[idx]"
   ]
  },
  {
   "cell_type": "code",
   "execution_count": 5,
   "metadata": {},
   "outputs": [],
   "source": [
    "# testing dataset\n",
    "dataset = Dataset(data, labels, 10)\n",
    "data_iter = iter(dataset)"
   ]
  },
  {
   "cell_type": "code",
   "execution_count": 6,
   "metadata": {},
   "outputs": [],
   "source": [
    "# define parameters\n",
    "W = torch.randn(10, 1, requires_grad=True)\n",
    "b = torch.randn(1, requires_grad=True)"
   ]
  },
  {
   "cell_type": "code",
   "execution_count": 7,
   "metadata": {},
   "outputs": [],
   "source": [
    "# define model\n",
    "def linear(X: torch.Tensor, W: torch.Tensor, b: torch.Tensor) -> torch.Tensor:\n",
    "    # W: (10, 1), b: (1), x: (num_sample, 10)\n",
    "    return X @ W + b"
   ]
  },
  {
   "cell_type": "code",
   "execution_count": 8,
   "metadata": {},
   "outputs": [],
   "source": [
    "# define loss function\n",
    "def mse_loss(trgt: torch.Tensor, pred: torch.Tensor) -> torch.Tensor:\n",
    "    return ((trgt - pred) ** 2) / 2"
   ]
  },
  {
   "cell_type": "code",
   "execution_count": 9,
   "metadata": {},
   "outputs": [],
   "source": [
    "# define gradient descent\n",
    "def sgd(params, lr, batch_size):\n",
    "    with torch.no_grad():\n",
    "        for param in params:\n",
    "            param -= lr * param.grad / batch_size\n",
    "            param.grad.zero_()"
   ]
  },
  {
   "cell_type": "code",
   "execution_count": 10,
   "metadata": {},
   "outputs": [
    {
     "name": "stdout",
     "output_type": "stream",
     "text": [
      "epoch 10, loss: 2210.448974609375\n",
      "epoch 20, loss: 576.3579711914062\n",
      "epoch 30, loss: 154.1092529296875\n",
      "epoch 40, loss: 19.10244369506836\n",
      "epoch 50, loss: 34.486820220947266\n",
      "epoch 60, loss: 19.66387367248535\n",
      "epoch 70, loss: 7.312628269195557\n",
      "epoch 80, loss: 2.625201463699341\n",
      "epoch 90, loss: 0.5805298686027527\n",
      "epoch 100, loss: 0.44202736020088196\n",
      "epoch 110, loss: 0.13841059803962708\n",
      "epoch 120, loss: 0.0906478762626648\n",
      "epoch 130, loss: 0.03540495038032532\n",
      "epoch 140, loss: 0.009388767182826996\n",
      "epoch 150, loss: 0.00237291119992733\n",
      "epoch 160, loss: 0.005006654653698206\n",
      "epoch 170, loss: 0.002886858768761158\n",
      "epoch 180, loss: 0.000956970383413136\n",
      "epoch 190, loss: 0.00028674842906184494\n",
      "epoch 200, loss: 0.0005604723701253533\n",
      "true_W: tensor([[  3.3669],\n",
      "        [  1.2881],\n",
      "        [  2.3446],\n",
      "        [  2.3033],\n",
      "        [-11.2286],\n",
      "        [ -1.8633],\n",
      "        [ 22.0820],\n",
      "        [ -6.3800],\n",
      "        [  4.6166],\n",
      "        [  2.6735]]), W: tensor([[  3.3677],\n",
      "        [  1.2883],\n",
      "        [  2.3447],\n",
      "        [  2.3028],\n",
      "        [-11.2277],\n",
      "        [ -1.8633],\n",
      "        [ 22.0802],\n",
      "        [ -6.3782],\n",
      "        [  4.6147],\n",
      "        [  2.6740]], requires_grad=True)\n",
      "true_b: tensor([0.5349]), b: tensor([0.5346], requires_grad=True)\n"
     ]
    }
   ],
   "source": [
    "# main training loop\n",
    "lr = 0.05\n",
    "num_epochs = 200\n",
    "batch_size = 10\n",
    "\n",
    "cnt = 0\n",
    "while cnt < num_epochs:\n",
    "    data, labels = next(data_iter)\n",
    "    pred = linear(data, W, b)\n",
    "    loss = mse_loss(labels, pred).sum()\n",
    "    loss.backward()\n",
    "    sgd([W, b], lr, batch_size)\n",
    "    cnt += 1\n",
    "    with torch.no_grad():\n",
    "        if cnt % 10 == 0:\n",
    "            print(f'epoch {cnt}, loss: {loss.item()}')\n",
    "\n",
    "print(f'true_W: {true_W}, W: {W}')\n",
    "print(f'true_b: {true_b}, b: {b}')"
   ]
  },
  {
   "cell_type": "code",
   "execution_count": 11,
   "metadata": {},
   "outputs": [
    {
     "name": "stdout",
     "output_type": "stream",
     "text": [
      "test loss: 0.005733387544751167\n"
     ]
    }
   ],
   "source": [
    "# testing on test data\n",
    "test_data, test_labels = create_dataset(true_W, true_b, 100)\n",
    "pred = linear(test_data, W, b)\n",
    "test_loss = mse_loss(test_labels, pred).sum()\n",
    "print(f'test loss: {test_loss.item()}')"
   ]
  },
  {
   "cell_type": "code",
   "execution_count": 12,
   "metadata": {},
   "outputs": [
    {
     "data": {
      "image/png": "[encoded data removed]",
      "text/plain": [
       "<Figure size 640x480 with 1 Axes>"
      ]
     },
     "metadata": {},
     "output_type": "display_data"
    }
   ],
   "source": [
    "# plot the result\n",
    "test_labels = test_labels.detach().numpy()\n",
    "pred = pred.detach().numpy()\n",
    "plt.scatter(test_labels, pred)\n",
    "plt.xlabel('true value')\n",
    "plt.ylabel('predicted value')\n",
    "plt.show()"
   ]
  }
 ],
 "metadata": {
  "kernelspec": {
   "display_name": "d2l",
   "language": "python",
   "name": "python3"
  },
  "language_info": {
   "codemirror_mode": {
    "name": "ipython",
    "version": 3
   },
   "file_extension": ".py",
   "mimetype": "text/x-python",
   "name": "python",
   "nbconvert_exporter": "python",
   "pygments_lexer": "ipython3",
   "version": "3.8.20"
  }
 },
 "nbformat": 4,
 "nbformat_minor": 2
}
