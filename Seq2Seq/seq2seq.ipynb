{
 "cells": [
  {
   "cell_type": "code",
   "execution_count": 1,
   "metadata": {},
   "outputs": [],
   "source": [
    "import torch\n",
    "import collections\n",
    "import math\n",
    "from torch import nn\n",
    "\n",
    "import sys\n",
    "sys.path.append('..')\n",
    "from d2l_helpers import *"
   ]
  },
  {
   "cell_type": "code",
   "execution_count": 2,
   "metadata": {},
   "outputs": [
    {
     "data": {
      "text/plain": [
       "(torch.Size([7, 4, 16]), torch.Size([2, 4, 16]))"
      ]
     },
     "execution_count": 2,
     "metadata": {},
     "output_type": "execute_result"
    }
   ],
   "source": [
    "encoder = Seq2SeqEncoder(vocab_size=10, embed_size=8, num_hiddens=16, num_layers=2)\n",
    "encoder.eval()\n",
    "X = torch.zeros((4, 7), dtype=torch.long)\n",
    "output, state = encoder(X)\n",
    "output.shape, state.shape"
   ]
  },
  {
   "cell_type": "code",
   "execution_count": 4,
   "metadata": {},
   "outputs": [],
   "source": [
    "class Seq2SeqDecoder(Decoder):\n",
    "    def __init__(self, vocab_size, embed_size, num_hiddens, num_layers, dropout=0, **kwargs):\n",
    "        super().__init__(**kwargs)\n",
    "        self.embedding = nn.Embedding(vocab_size, embed_size)\n",
    "        self.rnn = nn.GRU(embed_size + num_hiddens, num_hiddens, num_layers, dropout=dropout)\n",
    "        self.dense = nn.Linear(num_hiddens, vocab_size)\n",
    "    \n",
    "    def init_state(self, enc_outputs, *args):\n",
    "        return enc_outputs[1]\n",
    "    \n",
    "    def forward(self, X, state):\n",
    "        X = self.embedding(X).permute(1, 0, 2)\n",
    "        context = state[-1].repeat(X.shape[0], 1, 1)\n",
    "        X_and_context = torch.cat((X, context), 2)\n",
    "        output, state = self.rnn(X_and_context, state)\n",
    "        output = self.dense(output).permute(1, 0, 2)\n",
    "        return output, state"
   ]
  },
  {
   "cell_type": "code",
   "execution_count": 5,
   "metadata": {},
   "outputs": [
    {
     "data": {
      "text/plain": [
       "(torch.Size([4, 7, 10]), torch.Size([2, 4, 16]))"
      ]
     },
     "execution_count": 5,
     "metadata": {},
     "output_type": "execute_result"
    }
   ],
   "source": [
    "decoder = Seq2SeqDecoder(vocab_size=10, embed_size=8, num_hiddens=16, num_layers=2)\n",
    "decoder.eval()\n",
    "state = decoder.init_state(encoder(X))\n",
    "output, state = decoder(X, state)\n",
    "output.shape, state.shape"
   ]
  },
  {
   "cell_type": "code",
   "execution_count": 6,
   "metadata": {},
   "outputs": [
    {
     "data": {
      "text/plain": [
       "tensor([2.3026, 1.1513, 0.0000])"
      ]
     },
     "execution_count": 6,
     "metadata": {},
     "output_type": "execute_result"
    }
   ],
   "source": [
    "loss = MaskedSoftmaxCELoss()\n",
    "loss(torch.ones(3, 4, 10), torch.ones((3, 4), dtype=torch.long), torch.tensor([4, 2, 0]))"
   ]
  },
  {
   "cell_type": "code",
   "execution_count": 7,
   "metadata": {},
   "outputs": [
    {
     "name": "stdout",
     "output_type": "stream",
     "text": [
      "training on mps\n",
      "epoch 10, loss 0.206, 7093.8 tokens/sec on mps\n",
      "epoch 20, loss 0.147, 7087.4 tokens/sec on mps\n",
      "epoch 30, loss 0.110, 7622.8 tokens/sec on mps\n",
      "epoch 40, loss 0.085, 7372.0 tokens/sec on mps\n",
      "epoch 50, loss 0.070, 7203.6 tokens/sec on mps\n",
      "epoch 60, loss 0.057, 7606.1 tokens/sec on mps\n",
      "epoch 70, loss 0.048, 7626.9 tokens/sec on mps\n",
      "epoch 80, loss 0.042, 7628.9 tokens/sec on mps\n",
      "epoch 90, loss 0.036, 7298.2 tokens/sec on mps\n",
      "epoch 100, loss 0.034, 7334.5 tokens/sec on mps\n",
      "epoch 110, loss 0.031, 7507.8 tokens/sec on mps\n",
      "epoch 120, loss 0.029, 7602.2 tokens/sec on mps\n",
      "epoch 130, loss 0.028, 7637.1 tokens/sec on mps\n",
      "epoch 140, loss 0.025, 7448.1 tokens/sec on mps\n",
      "epoch 150, loss 0.024, 7531.0 tokens/sec on mps\n",
      "epoch 160, loss 0.025, 7585.1 tokens/sec on mps\n",
      "epoch 170, loss 0.023, 7535.5 tokens/sec on mps\n",
      "epoch 180, loss 0.022, 7629.4 tokens/sec on mps\n",
      "epoch 190, loss 0.022, 7500.4 tokens/sec on mps\n",
      "epoch 200, loss 0.021, 7635.0 tokens/sec on mps\n",
      "epoch 210, loss 0.021, 7590.8 tokens/sec on mps\n",
      "epoch 220, loss 0.021, 7514.4 tokens/sec on mps\n",
      "epoch 230, loss 0.021, 7216.8 tokens/sec on mps\n",
      "epoch 240, loss 0.020, 7433.9 tokens/sec on mps\n",
      "epoch 250, loss 0.021, 7639.6 tokens/sec on mps\n",
      "epoch 260, loss 0.020, 7523.0 tokens/sec on mps\n",
      "epoch 270, loss 0.020, 7362.1 tokens/sec on mps\n",
      "epoch 280, loss 0.020, 7530.0 tokens/sec on mps\n",
      "epoch 290, loss 0.020, 7528.0 tokens/sec on mps\n",
      "epoch 300, loss 0.019, 7482.7 tokens/sec on mps\n",
      "loss 0.019, 7481.0 tokens/sec on mps\n"
     ]
    }
   ],
   "source": [
    "embed_size, num_hiddens, num_layers, dropout = 32, 32, 2, 0.1\n",
    "batch_size, num_steps = 64, 10\n",
    "lr, num_epochs, device = 0.005, 300, get_device()\n",
    "\n",
    "train_iter, src_vocab, tgt_vocab = load_data_nmt(batch_size, num_steps)\n",
    "encoder = Seq2SeqEncoder(\n",
    "    len(src_vocab), embed_size, num_hiddens, num_layers, dropout)\n",
    "decoder = Seq2SeqDecoder(\n",
    "    len(tgt_vocab), embed_size, num_hiddens, num_layers, dropout)\n",
    "net = EncoderDecoder(encoder, decoder)\n",
    "train_seq2seq(net, train_iter, lr, num_epochs, tgt_vocab, device)"
   ]
  },
  {
   "cell_type": "code",
   "execution_count": 8,
   "metadata": {},
   "outputs": [
    {
     "name": "stdout",
     "output_type": "stream",
     "text": [
      "go . => va !, bleu 1.000\n",
      "i lost . => j'ai perdu ., bleu 1.000\n",
      "he's calm . => il est paresseux ., bleu 0.658\n",
      "i'm home . => je suis chez chez moi qui ai la paresseux ., bleu 0.537\n"
     ]
    }
   ],
   "source": [
    "engs = ['go .', \"i lost .\", 'he\\'s calm .', 'i\\'m home .']\n",
    "fras = ['va !', 'j\\'ai perdu .', 'il est calme .', 'je suis chez moi .']\n",
    "for eng, fra in zip(engs, fras):\n",
    "    translation, attention_weight_seq = predict_seq2seq(\n",
    "        net, eng, src_vocab, tgt_vocab, num_steps, device)\n",
    "    print(f'{eng} => {translation}, bleu {bleu(translation, fra, k=2):.3f}')"
   ]
  }
 ],
 "metadata": {
  "kernelspec": {
   "display_name": "base",
   "language": "python",
   "name": "python3"
  },
  "language_info": {
   "codemirror_mode": {
    "name": "ipython",
    "version": 3
   },
   "file_extension": ".py",
   "mimetype": "text/x-python",
   "name": "python",
   "nbconvert_exporter": "python",
   "pygments_lexer": "ipython3",
   "version": "3.12.2"
  }
 },
 "nbformat": 4,
 "nbformat_minor": 2
}
