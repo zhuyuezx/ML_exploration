{
 "cells": [
  {
   "cell_type": "code",
   "execution_count": 1,
   "metadata": {},
   "outputs": [],
   "source": [
    "import torch\n",
    "from torch import nn\n",
    "\n",
    "import sys\n",
    "sys.path.append('..')\n",
    "from d2l_helpers import *"
   ]
  },
  {
   "cell_type": "code",
   "execution_count": 2,
   "metadata": {},
   "outputs": [],
   "source": [
    "net = nn.Sequential(\n",
    "    nn.Conv2d(1, 96, kernel_size=11, stride=4, padding=1), nn.ReLU(),\n",
    "    nn.MaxPool2d(kernel_size=3, stride=2),\n",
    "    nn.Conv2d(96, 256, kernel_size=5, padding=2), nn.ReLU(),\n",
    "    nn.MaxPool2d(kernel_size=3, stride=2),\n",
    "    nn.Conv2d(256, 384, kernel_size=3, padding=1), nn.ReLU(),\n",
    "    nn.Conv2d(384, 384, kernel_size=3, padding=1), nn.ReLU(),\n",
    "    nn.Conv2d(384, 256, kernel_size=3, padding=1), nn.ReLU(),\n",
    "    nn.MaxPool2d(kernel_size=3, stride=2), nn.Flatten(),\n",
    "    nn.Linear(6400, 4096), nn.ReLU(), nn.Dropout(p=0.5),\n",
    "    nn.Linear(4096, 4096), nn.ReLU(), nn.Dropout(p=0.5),\n",
    "    nn.Linear(4096, 10)\n",
    ")"
   ]
  },
  {
   "cell_type": "code",
   "execution_count": 3,
   "metadata": {},
   "outputs": [
    {
     "name": "stdout",
     "output_type": "stream",
     "text": [
      "Conv2d output shape:\t torch.Size([1, 96, 54, 54])\n",
      "ReLU output shape:\t torch.Size([1, 96, 54, 54])\n",
      "MaxPool2d output shape:\t torch.Size([1, 96, 26, 26])\n",
      "Conv2d output shape:\t torch.Size([1, 256, 26, 26])\n",
      "ReLU output shape:\t torch.Size([1, 256, 26, 26])\n",
      "MaxPool2d output shape:\t torch.Size([1, 256, 12, 12])\n",
      "Conv2d output shape:\t torch.Size([1, 384, 12, 12])\n",
      "ReLU output shape:\t torch.Size([1, 384, 12, 12])\n",
      "Conv2d output shape:\t torch.Size([1, 384, 12, 12])\n",
      "ReLU output shape:\t torch.Size([1, 384, 12, 12])\n",
      "Conv2d output shape:\t torch.Size([1, 256, 12, 12])\n",
      "ReLU output shape:\t torch.Size([1, 256, 12, 12])\n",
      "MaxPool2d output shape:\t torch.Size([1, 256, 5, 5])\n",
      "Flatten output shape:\t torch.Size([1, 6400])\n",
      "Linear output shape:\t torch.Size([1, 4096])\n",
      "ReLU output shape:\t torch.Size([1, 4096])\n",
      "Dropout output shape:\t torch.Size([1, 4096])\n",
      "Linear output shape:\t torch.Size([1, 4096])\n",
      "ReLU output shape:\t torch.Size([1, 4096])\n",
      "Dropout output shape:\t torch.Size([1, 4096])\n",
      "Linear output shape:\t torch.Size([1, 10])\n"
     ]
    }
   ],
   "source": [
    "X = torch.randn(1, 1, 224, 224)\n",
    "for layer in net:\n",
    "    X = layer(X)\n",
    "    print(layer.__class__.__name__, 'output shape:\\t', X.shape)"
   ]
  },
  {
   "cell_type": "code",
   "execution_count": 4,
   "metadata": {},
   "outputs": [],
   "source": [
    "batch_size = 128\n",
    "train_iter, test_iter = load_data_fashion_mnist(batch_size, resize=224)\n",
    "\n",
    "device = get_device()"
   ]
  },
  {
   "cell_type": "code",
   "execution_count": 5,
   "metadata": {},
   "outputs": [
    {
     "data": {
      "text/plain": [
       "device(type='mps')"
      ]
     },
     "execution_count": 5,
     "metadata": {},
     "output_type": "execute_result"
    }
   ],
   "source": [
    "device"
   ]
  },
  {
   "cell_type": "code",
   "execution_count": 6,
   "metadata": {},
   "outputs": [
    {
     "name": "stdout",
     "output_type": "stream",
     "text": [
      "training on mps\n",
      "epoch 1, iter 93/469\n",
      "epoch 1, iter 186/469\n",
      "epoch 1, iter 279/469\n",
      "epoch 1, iter 372/469\n",
      "epoch 1, iter 465/469\n",
      "epoch 1, iter 469/469\n",
      "loss 1.365, train acc 0.501, test acc 0.741\n",
      "epoch 2, iter 93/469\n",
      "epoch 2, iter 186/469\n",
      "epoch 2, iter 279/469\n",
      "epoch 2, iter 372/469\n",
      "epoch 2, iter 465/469\n",
      "epoch 2, iter 469/469\n",
      "loss 0.652, train acc 0.755, test acc 0.800\n",
      "epoch 3, iter 93/469\n",
      "epoch 3, iter 186/469\n",
      "epoch 3, iter 279/469\n",
      "epoch 3, iter 372/469\n",
      "epoch 3, iter 465/469\n",
      "epoch 3, iter 469/469\n",
      "loss 0.532, train acc 0.801, test acc 0.822\n",
      "epoch 4, iter 93/469\n",
      "epoch 4, iter 186/469\n",
      "epoch 4, iter 279/469\n",
      "epoch 4, iter 372/469\n",
      "epoch 4, iter 465/469\n",
      "epoch 4, iter 469/469\n",
      "loss 0.466, train acc 0.829, test acc 0.842\n",
      "epoch 5, iter 93/469\n",
      "epoch 5, iter 186/469\n",
      "epoch 5, iter 279/469\n",
      "epoch 5, iter 372/469\n",
      "epoch 5, iter 465/469\n",
      "epoch 5, iter 469/469\n",
      "loss 0.423, train acc 0.845, test acc 0.855\n",
      "epoch 6, iter 93/469\n",
      "epoch 6, iter 186/469\n",
      "epoch 6, iter 279/469\n",
      "epoch 6, iter 372/469\n",
      "epoch 6, iter 465/469\n",
      "epoch 6, iter 469/469\n",
      "loss 0.395, train acc 0.856, test acc 0.862\n",
      "epoch 7, iter 93/469\n",
      "epoch 7, iter 186/469\n",
      "epoch 7, iter 279/469\n",
      "epoch 7, iter 372/469\n",
      "epoch 7, iter 465/469\n",
      "epoch 7, iter 469/469\n",
      "loss 0.372, train acc 0.864, test acc 0.868\n",
      "epoch 8, iter 93/469\n",
      "epoch 8, iter 186/469\n",
      "epoch 8, iter 279/469\n",
      "epoch 8, iter 372/469\n",
      "epoch 8, iter 465/469\n",
      "epoch 8, iter 469/469\n",
      "loss 0.354, train acc 0.871, test acc 0.874\n",
      "epoch 9, iter 93/469\n",
      "epoch 9, iter 186/469\n",
      "epoch 9, iter 279/469\n",
      "epoch 9, iter 372/469\n",
      "epoch 9, iter 465/469\n",
      "epoch 9, iter 469/469\n",
      "loss 0.336, train acc 0.875, test acc 0.879\n",
      "epoch 10, iter 93/469\n",
      "epoch 10, iter 186/469\n",
      "epoch 10, iter 279/469\n",
      "epoch 10, iter 372/469\n",
      "epoch 10, iter 465/469\n",
      "epoch 10, iter 469/469\n",
      "loss 0.324, train acc 0.882, test acc 0.877\n",
      "750.5 examples/sec on mps\n"
     ]
    }
   ],
   "source": [
    "lr, num_epochs = 0.01, 10\n",
    "train_cnn(net, train_iter, test_iter, num_epochs, lr, device)"
   ]
  }
 ],
 "metadata": {
  "kernelspec": {
   "display_name": "base",
   "language": "python",
   "name": "python3"
  },
  "language_info": {
   "codemirror_mode": {
    "name": "ipython",
    "version": 3
   },
   "file_extension": ".py",
   "mimetype": "text/x-python",
   "name": "python",
   "nbconvert_exporter": "python",
   "pygments_lexer": "ipython3",
   "version": "3.12.2"
  }
 },
 "nbformat": 4,
 "nbformat_minor": 2
}
