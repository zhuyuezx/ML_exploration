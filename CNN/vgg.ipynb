{
 "cells": [
  {
   "cell_type": "code",
   "execution_count": 2,
   "metadata": {},
   "outputs": [],
   "source": [
    "import torch\n",
    "import torch.nn as nn\n",
    "\n",
    "import sys\n",
    "sys.path.append('..')\n",
    "from d2l_helpers import *\n",
    "import time"
   ]
  },
  {
   "cell_type": "code",
   "execution_count": 3,
   "metadata": {},
   "outputs": [],
   "source": [
    "def vgg_block(num_convs, in_channels, out_channels):\n",
    "    layers = []\n",
    "    for _ in range(num_convs):\n",
    "        layers.append(nn.Conv2d(in_channels, out_channels, kernel_size=3, padding=1))\n",
    "        layers.append(nn.ReLU())\n",
    "        in_channels = out_channels\n",
    "    layers.append(nn.MaxPool2d(kernel_size=2, stride=2))\n",
    "    return nn.Sequential(*layers)"
   ]
  },
  {
   "cell_type": "code",
   "execution_count": 4,
   "metadata": {},
   "outputs": [],
   "source": [
    "conv_arch = ((1, 64), (1, 128), (2, 256), (2, 512), (2, 512))\n",
    "\n",
    "def vgg(conv_arch):\n",
    "    conv_blks = []\n",
    "    in_channels = 1\n",
    "    for (num_convs, out_channels) in conv_arch:\n",
    "        conv_blks.append(vgg_block(num_convs, in_channels, out_channels))\n",
    "        in_channels = out_channels\n",
    "    return nn.Sequential(\n",
    "        *conv_blks, nn.Flatten(),\n",
    "        nn.Linear(out_channels * 7 * 7, 4096), nn.ReLU(), nn.Dropout(0.5),\n",
    "        nn.Linear(4096, 4096), nn.ReLU(), nn.Dropout(0.5),\n",
    "        nn.Linear(4096, 10)\n",
    "    )\n",
    "\n",
    "net = vgg(conv_arch)"
   ]
  },
  {
   "cell_type": "code",
   "execution_count": 5,
   "metadata": {},
   "outputs": [
    {
     "name": "stdout",
     "output_type": "stream",
     "text": [
      "Sequential output shape:\t torch.Size([1, 64, 112, 112])\n",
      "Sequential output shape:\t torch.Size([1, 128, 56, 56])\n",
      "Sequential output shape:\t torch.Size([1, 256, 28, 28])\n",
      "Sequential output shape:\t torch.Size([1, 512, 14, 14])\n",
      "Sequential output shape:\t torch.Size([1, 512, 7, 7])\n",
      "Flatten output shape:\t torch.Size([1, 25088])\n",
      "Linear output shape:\t torch.Size([1, 4096])\n",
      "ReLU output shape:\t torch.Size([1, 4096])\n",
      "Dropout output shape:\t torch.Size([1, 4096])\n",
      "Linear output shape:\t torch.Size([1, 4096])\n",
      "ReLU output shape:\t torch.Size([1, 4096])\n",
      "Dropout output shape:\t torch.Size([1, 4096])\n",
      "Linear output shape:\t torch.Size([1, 10])\n"
     ]
    }
   ],
   "source": [
    "X = torch.randn(size=(1, 1, 224, 224))\n",
    "for blk in net:\n",
    "    X = blk(X)\n",
    "    print(blk.__class__.__name__, 'output shape:\\t', X.shape)"
   ]
  },
  {
   "cell_type": "code",
   "execution_count": 8,
   "metadata": {},
   "outputs": [],
   "source": [
    "ratio = 4\n",
    "small_conv_arch = [(pair[0], pair[1] // ratio) for pair in conv_arch]\n",
    "net = vgg(small_conv_arch)\n",
    "\n",
    "device = get_device()"
   ]
  },
  {
   "cell_type": "code",
   "execution_count": 9,
   "metadata": {},
   "outputs": [
    {
     "name": "stdout",
     "output_type": "stream",
     "text": [
      "training on mps\n",
      "epoch 1, iter 93/469\n",
      "epoch 1, iter 186/469\n",
      "epoch 1, iter 279/469\n",
      "epoch 1, iter 372/469\n",
      "epoch 1, iter 465/469\n",
      "epoch 1, iter 469/469\n",
      "loss 1.348, train acc 0.511, test acc 0.814\n",
      "epoch 2, iter 93/469\n",
      "epoch 2, iter 186/469\n",
      "epoch 2, iter 279/469\n",
      "epoch 2, iter 372/469\n",
      "epoch 2, iter 465/469\n",
      "epoch 2, iter 469/469\n",
      "loss 0.440, train acc 0.840, test acc 0.864\n",
      "epoch 3, iter 93/469\n",
      "epoch 3, iter 186/469\n",
      "epoch 3, iter 279/469\n",
      "epoch 3, iter 372/469\n",
      "epoch 3, iter 465/469\n",
      "epoch 3, iter 469/469\n",
      "loss 0.350, train acc 0.873, test acc 0.880\n",
      "epoch 4, iter 93/469\n",
      "epoch 4, iter 186/469\n",
      "epoch 4, iter 279/469\n",
      "epoch 4, iter 372/469\n",
      "epoch 4, iter 465/469\n",
      "epoch 4, iter 469/469\n",
      "loss 0.302, train acc 0.889, test acc 0.896\n",
      "epoch 5, iter 93/469\n",
      "epoch 5, iter 186/469\n",
      "epoch 5, iter 279/469\n",
      "epoch 5, iter 372/469\n",
      "epoch 5, iter 465/469\n",
      "epoch 5, iter 469/469\n",
      "loss 0.271, train acc 0.901, test acc 0.897\n",
      "epoch 6, iter 93/469\n",
      "epoch 6, iter 186/469\n",
      "epoch 6, iter 279/469\n",
      "epoch 6, iter 372/469\n",
      "epoch 6, iter 465/469\n",
      "epoch 6, iter 469/469\n",
      "loss 0.247, train acc 0.909, test acc 0.898\n",
      "epoch 7, iter 93/469\n",
      "epoch 7, iter 186/469\n",
      "epoch 7, iter 279/469\n",
      "epoch 7, iter 372/469\n",
      "epoch 7, iter 465/469\n",
      "epoch 7, iter 469/469\n",
      "loss 0.229, train acc 0.916, test acc 0.904\n",
      "epoch 8, iter 93/469\n",
      "epoch 8, iter 186/469\n",
      "epoch 8, iter 279/469\n",
      "epoch 8, iter 372/469\n",
      "epoch 8, iter 465/469\n",
      "epoch 8, iter 469/469\n",
      "loss 0.210, train acc 0.923, test acc 0.913\n",
      "epoch 9, iter 93/469\n",
      "epoch 9, iter 186/469\n",
      "epoch 9, iter 279/469\n",
      "epoch 9, iter 372/469\n",
      "epoch 9, iter 465/469\n",
      "epoch 9, iter 469/469\n",
      "loss 0.195, train acc 0.927, test acc 0.917\n",
      "epoch 10, iter 93/469\n",
      "epoch 10, iter 186/469\n",
      "epoch 10, iter 279/469\n",
      "epoch 10, iter 372/469\n",
      "epoch 10, iter 465/469\n",
      "epoch 10, iter 469/469\n",
      "loss 0.184, train acc 0.932, test acc 0.918\n",
      "965.2 examples/sec on mps\n"
     ]
    }
   ],
   "source": [
    "lr, num_epochs, batch_size = 0.05, 10, 128\n",
    "train_iter, test_iter = load_data_fashion_mnist(batch_size, resize=224)\n",
    "train_cnn(net, train_iter, test_iter, num_epochs, lr, device)"
   ]
  }
 ],
 "metadata": {
  "kernelspec": {
   "display_name": "base",
   "language": "python",
   "name": "python3"
  },
  "language_info": {
   "codemirror_mode": {
    "name": "ipython",
    "version": 3
   },
   "file_extension": ".py",
   "mimetype": "text/x-python",
   "name": "python",
   "nbconvert_exporter": "python",
   "pygments_lexer": "ipython3",
   "version": "3.12.2"
  }
 },
 "nbformat": 4,
 "nbformat_minor": 2
}
