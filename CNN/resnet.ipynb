{
 "cells": [
  {
   "cell_type": "code",
   "execution_count": 1,
   "metadata": {},
   "outputs": [],
   "source": [
    "import torch \n",
    "import torch.nn as nn\n",
    "from torch.nn import functional as F\n",
    "\n",
    "import sys\n",
    "sys.path.append('..')\n",
    "from d2l_helpers import *"
   ]
  },
  {
   "cell_type": "code",
   "execution_count": 2,
   "metadata": {},
   "outputs": [],
   "source": [
    "class Residual(nn.Module):\n",
    "    def __init__(self, input_channels, num_channels, use_1x1conv=False, strides=1):\n",
    "        super().__init__()\n",
    "        self.conv1 = nn.Conv2d(input_channels, num_channels, kernel_size=3, padding=1, stride=strides)\n",
    "        self.conv2 = nn.Conv2d(num_channels, num_channels, kernel_size=3, padding=1)\n",
    "        if use_1x1conv:\n",
    "            self.conv3 = nn.Conv2d(input_channels, num_channels, kernel_size=1, stride=strides)\n",
    "        else:\n",
    "            self.conv3 = None\n",
    "        self.bn1 = nn.BatchNorm2d(num_channels)\n",
    "        self.bn2 = nn.BatchNorm2d(num_channels)\n",
    "        self.relu = nn.ReLU(inplace=True)\n",
    "    \n",
    "    def forward(self, X):\n",
    "        Y = F.relu(self.bn1(self.conv1(X)))\n",
    "        Y = self.bn2(self.conv2(Y))\n",
    "        if self.conv3:\n",
    "            X = self.conv3(X)\n",
    "        Y += X \n",
    "        return F.relu(Y)"
   ]
  },
  {
   "cell_type": "code",
   "execution_count": 3,
   "metadata": {},
   "outputs": [
    {
     "data": {
      "text/plain": [
       "torch.Size([4, 3, 6, 6])"
      ]
     },
     "execution_count": 3,
     "metadata": {},
     "output_type": "execute_result"
    }
   ],
   "source": [
    "blk = Residual(3, 3)\n",
    "X = torch.rand(4, 3, 6, 6)\n",
    "Y = blk(X)\n",
    "Y.shape"
   ]
  },
  {
   "cell_type": "code",
   "execution_count": 4,
   "metadata": {},
   "outputs": [
    {
     "data": {
      "text/plain": [
       "torch.Size([4, 6, 3, 3])"
      ]
     },
     "execution_count": 4,
     "metadata": {},
     "output_type": "execute_result"
    }
   ],
   "source": [
    "blk = Residual(3, 6, use_1x1conv=True, strides=2)\n",
    "Y = blk(X)\n",
    "Y.shape"
   ]
  },
  {
   "cell_type": "code",
   "execution_count": 5,
   "metadata": {},
   "outputs": [],
   "source": [
    "b1 = nn.Sequential(\n",
    "    nn.Conv2d(1, 64, kernel_size=7, stride=2, padding=3),\n",
    "    nn.BatchNorm2d(64), nn.ReLU(),\n",
    "    nn.MaxPool2d(kernel_size=3, stride=2, padding=1)\n",
    "    )\n",
    "\n",
    "def resnet_block(input_channels, num_channels, num_residuals, first_block=False):\n",
    "    blk = []\n",
    "    for i in range(num_residuals):\n",
    "        if i == 0 and not first_block:\n",
    "            blk.append(Residual(input_channels, num_channels, use_1x1conv=True, strides=2))\n",
    "        else:\n",
    "            blk.append(Residual(num_channels, num_channels))\n",
    "    return blk\n",
    "\n",
    "b2 = nn.Sequential(*resnet_block(64, 64, 2, first_block=True))\n",
    "b3 = nn.Sequential(*resnet_block(64, 128, 2))\n",
    "b4 = nn.Sequential(*resnet_block(128, 256, 2))\n",
    "b5 = nn.Sequential(*resnet_block(256, 512, 2))\n",
    "\n",
    "net = nn.Sequential(b1, b2, b3, b4, b5,\n",
    "                    nn.AdaptiveAvgPool2d((1, 1)),\n",
    "                    nn.Flatten(), nn.Linear(512, 10))"
   ]
  },
  {
   "cell_type": "code",
   "execution_count": 6,
   "metadata": {},
   "outputs": [
    {
     "name": "stdout",
     "output_type": "stream",
     "text": [
      "Sequential output shape:\t torch.Size([1, 64, 56, 56])\n",
      "Sequential output shape:\t torch.Size([1, 64, 56, 56])\n",
      "Sequential output shape:\t torch.Size([1, 128, 28, 28])\n",
      "Sequential output shape:\t torch.Size([1, 256, 14, 14])\n",
      "Sequential output shape:\t torch.Size([1, 512, 7, 7])\n",
      "AdaptiveAvgPool2d output shape:\t torch.Size([1, 512, 1, 1])\n",
      "Flatten output shape:\t torch.Size([1, 512])\n",
      "Linear output shape:\t torch.Size([1, 10])\n"
     ]
    }
   ],
   "source": [
    "X = torch.rand(size=(1, 1, 224, 224))\n",
    "for layer in net:\n",
    "    X = layer(X)\n",
    "    print(layer.__class__.__name__, 'output shape:\\t', X.shape)"
   ]
  },
  {
   "cell_type": "code",
   "execution_count": 7,
   "metadata": {},
   "outputs": [
    {
     "name": "stdout",
     "output_type": "stream",
     "text": [
      "training on mps\n",
      "epoch 1, iter 47/235\n",
      "epoch 1, iter 94/235\n",
      "epoch 1, iter 141/235\n",
      "epoch 1, iter 188/235\n",
      "epoch 1, iter 235/235\n",
      "loss 0.483, train acc 0.828, test acc 0.876\n",
      "epoch 2, iter 47/235\n",
      "epoch 2, iter 94/235\n",
      "epoch 2, iter 141/235\n",
      "epoch 2, iter 188/235\n",
      "epoch 2, iter 235/235\n",
      "loss 0.256, train acc 0.906, test acc 0.889\n",
      "epoch 3, iter 47/235\n",
      "epoch 3, iter 94/235\n",
      "epoch 3, iter 141/235\n",
      "epoch 3, iter 188/235\n",
      "epoch 3, iter 235/235\n",
      "loss 0.194, train acc 0.929, test acc 0.840\n",
      "epoch 4, iter 47/235\n",
      "epoch 4, iter 94/235\n",
      "epoch 4, iter 141/235\n",
      "epoch 4, iter 188/235\n",
      "epoch 4, iter 235/235\n",
      "loss 0.146, train acc 0.947, test acc 0.855\n",
      "epoch 5, iter 47/235\n",
      "epoch 5, iter 94/235\n",
      "epoch 5, iter 141/235\n",
      "epoch 5, iter 188/235\n",
      "epoch 5, iter 235/235\n",
      "loss 0.112, train acc 0.960, test acc 0.903\n",
      "epoch 6, iter 47/235\n",
      "epoch 6, iter 94/235\n",
      "epoch 6, iter 141/235\n",
      "epoch 6, iter 188/235\n",
      "epoch 6, iter 235/235\n",
      "loss 0.080, train acc 0.973, test acc 0.852\n",
      "epoch 7, iter 47/235\n",
      "epoch 7, iter 94/235\n",
      "epoch 7, iter 141/235\n",
      "epoch 7, iter 188/235\n",
      "epoch 7, iter 235/235\n",
      "loss 0.057, train acc 0.980, test acc 0.908\n",
      "epoch 8, iter 47/235\n",
      "epoch 8, iter 94/235\n",
      "epoch 8, iter 141/235\n",
      "epoch 8, iter 188/235\n",
      "epoch 8, iter 235/235\n",
      "loss 0.037, train acc 0.988, test acc 0.885\n",
      "epoch 9, iter 47/235\n",
      "epoch 9, iter 94/235\n",
      "epoch 9, iter 141/235\n",
      "epoch 9, iter 188/235\n",
      "epoch 9, iter 235/235\n",
      "loss 0.026, train acc 0.992, test acc 0.912\n",
      "epoch 10, iter 47/235\n",
      "epoch 10, iter 94/235\n",
      "epoch 10, iter 141/235\n",
      "epoch 10, iter 188/235\n",
      "epoch 10, iter 235/235\n",
      "loss 0.008, train acc 0.998, test acc 0.917\n",
      "1572.2 examples/sec on mps\n"
     ]
    }
   ],
   "source": [
    "device = get_device()\n",
    "lr, num_epochs, batch_size = 0.05, 10, 256\n",
    "train_iter, test_iter = load_data_fashion_mnist(batch_size, resize=96)\n",
    "train_cnn(net, train_iter, test_iter, num_epochs, lr, device)"
   ]
  }
 ],
 "metadata": {
  "kernelspec": {
   "display_name": "base",
   "language": "python",
   "name": "python3"
  },
  "language_info": {
   "codemirror_mode": {
    "name": "ipython",
    "version": 3
   },
   "file_extension": ".py",
   "mimetype": "text/x-python",
   "name": "python",
   "nbconvert_exporter": "python",
   "pygments_lexer": "ipython3",
   "version": "3.12.2"
  }
 },
 "nbformat": 4,
 "nbformat_minor": 2
}
