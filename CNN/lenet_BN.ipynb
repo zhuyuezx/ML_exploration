{
 "cells": [
  {
   "cell_type": "code",
   "execution_count": 1,
   "metadata": {},
   "outputs": [],
   "source": [
    "import torch\n",
    "from torch import nn\n",
    "\n",
    "import sys\n",
    "sys.path.append('..')\n",
    "from d2l_helpers import *"
   ]
  },
  {
   "cell_type": "code",
   "execution_count": 13,
   "metadata": {},
   "outputs": [],
   "source": [
    "# net = nn.Sequential(\n",
    "#     nn.Conv2d(1, 6, kernel_size=5, padding=2), BatchNorm(6, num_dims=4),\n",
    "#     nn.Sigmoid(), nn.MaxPool2d(kernel_size=2, stride=2),\n",
    "#     nn.Conv2d(6, 16, kernel_size=5), BatchNorm(16, num_dims=4),\n",
    "#     nn.Sigmoid(), nn.MaxPool2d(kernel_size=2, stride=2),\n",
    "#     nn.Flatten(), nn.Linear(16*5*5, 120), BatchNorm(120, num_dims=2),\n",
    "#     nn.Sigmoid(), nn.Linear(120, 84), BatchNorm(84, num_dims=2),\n",
    "#     nn.Sigmoid(), nn.Linear(84, 10)\n",
    "# )\n",
    "\n",
    "net = nn.Sequential(\n",
    "    nn.Conv2d(1, 6, kernel_size=5, padding=2), nn.BatchNorm2d(6),\n",
    "    nn.Sigmoid(), nn.MaxPool2d(kernel_size=2, stride=2),\n",
    "    nn.Conv2d(6, 16, kernel_size=5), nn.BatchNorm2d(16),\n",
    "    nn.Sigmoid(), nn.MaxPool2d(kernel_size=2, stride=2),\n",
    "    nn.Flatten(), nn.Linear(16*5*5, 120), nn.BatchNorm1d(120),\n",
    "    nn.Sigmoid(), nn.Linear(120, 84), nn.BatchNorm1d(84),\n",
    "    nn.Sigmoid(), nn.Linear(84, 10)\n",
    ")"
   ]
  },
  {
   "cell_type": "code",
   "execution_count": 14,
   "metadata": {},
   "outputs": [
    {
     "name": "stdout",
     "output_type": "stream",
     "text": [
      "Conv2d output shape:\t torch.Size([2, 6, 28, 28])\n",
      "BatchNorm2d output shape:\t torch.Size([2, 6, 28, 28])\n",
      "Sigmoid output shape:\t torch.Size([2, 6, 28, 28])\n",
      "MaxPool2d output shape:\t torch.Size([2, 6, 14, 14])\n",
      "Conv2d output shape:\t torch.Size([2, 16, 10, 10])\n",
      "BatchNorm2d output shape:\t torch.Size([2, 16, 10, 10])\n",
      "Sigmoid output shape:\t torch.Size([2, 16, 10, 10])\n",
      "MaxPool2d output shape:\t torch.Size([2, 16, 5, 5])\n",
      "Flatten output shape:\t torch.Size([2, 400])\n",
      "Linear output shape:\t torch.Size([2, 120])\n",
      "BatchNorm1d output shape:\t torch.Size([2, 120])\n",
      "Sigmoid output shape:\t torch.Size([2, 120])\n",
      "Linear output shape:\t torch.Size([2, 84])\n",
      "BatchNorm1d output shape:\t torch.Size([2, 84])\n",
      "Sigmoid output shape:\t torch.Size([2, 84])\n",
      "Linear output shape:\t torch.Size([2, 10])\n"
     ]
    }
   ],
   "source": [
    "X = torch.rand(size=(2, 1, 28, 28), dtype=torch.float32)\n",
    "for layer in net:\n",
    "    X = layer(X)\n",
    "    print(layer.__class__.__name__, 'output shape:\\t', X.shape)"
   ]
  },
  {
   "cell_type": "code",
   "execution_count": 15,
   "metadata": {},
   "outputs": [
    {
     "name": "stdout",
     "output_type": "stream",
     "text": [
      "training on mps\n",
      "epoch 1, iter 47/235\n",
      "epoch 1, iter 94/235\n",
      "epoch 1, iter 141/235\n",
      "epoch 1, iter 188/235\n",
      "epoch 1, iter 235/235\n",
      "loss 0.609, train acc 0.786, test acc 0.721\n",
      "epoch 2, iter 47/235\n",
      "epoch 2, iter 94/235\n",
      "epoch 2, iter 141/235\n",
      "epoch 2, iter 188/235\n",
      "epoch 2, iter 235/235\n",
      "loss 0.368, train acc 0.866, test acc 0.829\n",
      "epoch 3, iter 47/235\n",
      "epoch 3, iter 94/235\n",
      "epoch 3, iter 141/235\n",
      "epoch 3, iter 188/235\n",
      "epoch 3, iter 235/235\n",
      "loss 0.322, train acc 0.883, test acc 0.776\n",
      "epoch 4, iter 47/235\n",
      "epoch 4, iter 94/235\n",
      "epoch 4, iter 141/235\n",
      "epoch 4, iter 188/235\n",
      "epoch 4, iter 235/235\n",
      "loss 0.296, train acc 0.893, test acc 0.825\n",
      "epoch 5, iter 47/235\n",
      "epoch 5, iter 94/235\n",
      "epoch 5, iter 141/235\n",
      "epoch 5, iter 188/235\n",
      "epoch 5, iter 235/235\n",
      "loss 0.280, train acc 0.899, test acc 0.812\n",
      "epoch 6, iter 47/235\n",
      "epoch 6, iter 94/235\n",
      "epoch 6, iter 141/235\n",
      "epoch 6, iter 188/235\n",
      "epoch 6, iter 235/235\n",
      "loss 0.263, train acc 0.904, test acc 0.811\n",
      "epoch 7, iter 47/235\n",
      "epoch 7, iter 94/235\n",
      "epoch 7, iter 141/235\n",
      "epoch 7, iter 188/235\n",
      "epoch 7, iter 235/235\n",
      "loss 0.250, train acc 0.908, test acc 0.799\n",
      "epoch 8, iter 47/235\n",
      "epoch 8, iter 94/235\n",
      "epoch 8, iter 141/235\n",
      "epoch 8, iter 188/235\n",
      "epoch 8, iter 235/235\n",
      "loss 0.241, train acc 0.911, test acc 0.818\n",
      "epoch 9, iter 47/235\n",
      "epoch 9, iter 94/235\n",
      "epoch 9, iter 141/235\n",
      "epoch 9, iter 188/235\n",
      "epoch 9, iter 235/235\n",
      "loss 0.230, train acc 0.915, test acc 0.814\n",
      "epoch 10, iter 47/235\n",
      "epoch 10, iter 94/235\n",
      "epoch 10, iter 141/235\n",
      "epoch 10, iter 188/235\n",
      "epoch 10, iter 235/235\n",
      "loss 0.223, train acc 0.918, test acc 0.857\n",
      "48779.7 examples/sec on mps\n"
     ]
    }
   ],
   "source": [
    "device = get_device()\n",
    "lr, num_epochs, batch_size = 1.0, 10, 256\n",
    "train_iter, test_iter = load_data_fashion_mnist(batch_size)\n",
    "train_cnn(net, train_iter, test_iter, num_epochs, lr, device)"
   ]
  }
 ],
 "metadata": {
  "kernelspec": {
   "display_name": "base",
   "language": "python",
   "name": "python3"
  },
  "language_info": {
   "codemirror_mode": {
    "name": "ipython",
    "version": 3
   },
   "file_extension": ".py",
   "mimetype": "text/x-python",
   "name": "python",
   "nbconvert_exporter": "python",
   "pygments_lexer": "ipython3",
   "version": "3.12.2"
  }
 },
 "nbformat": 4,
 "nbformat_minor": 2
}
